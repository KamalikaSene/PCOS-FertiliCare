{
  "nbformat": 4,
  "nbformat_minor": 0,
  "metadata": {
    "colab": {
      "provenance": [],
      "mount_file_id": "10BEVGPZrYmos9VlOojM_JlWesKC8d3b0",
      "authorship_tag": "ABX9TyMoFZ0HqcG/Mc0R+linBN44",
      "include_colab_link": true
    },
    "kernelspec": {
      "name": "python3",
      "display_name": "Python 3"
    },
    "language_info": {
      "name": "python"
    }
  },
  "cells": [
    {
      "cell_type": "markdown",
      "metadata": {
        "id": "view-in-github",
        "colab_type": "text"
      },
      "source": [
        "<a href=\"https://colab.research.google.com/github/KamalikaSene/PCOS-FertiliCare/blob/ML-Preprocessing/Preprocessing_2_with_only_pcos_patients__and_redundant_column_removal.ipynb\" target=\"_parent\"><img src=\"https://colab.research.google.com/assets/colab-badge.svg\" alt=\"Open In Colab\"/></a>"
      ]
    },
    {
      "cell_type": "code",
      "execution_count": 2,
      "metadata": {
        "id": "-UX1Bp1bReCc"
      },
      "outputs": [],
      "source": [
        "import copy\n",
        "import time\n",
        "import numpy as np\n",
        "import pandas as pd\n",
        "import warnings\n",
        "import seaborn as sns\n",
        "warnings.filterwarnings(\"ignore\")\n",
        "import matplotlib.pyplot as plt\n",
        "import os\n",
        "import openpyxl\n",
        "import sklearn"
      ]
    },
    {
      "cell_type": "code",
      "source": [
        "df = pd.read_excel(\"PCOS_data_without_infertility.xlsx\",sheet_name=1)"
      ],
      "metadata": {
        "id": "YM9s_4kYavOQ"
      },
      "execution_count": 3,
      "outputs": []
    },
    {
      "cell_type": "code",
      "source": [
        "df.head().T"
      ],
      "metadata": {
        "colab": {
          "base_uri": "https://localhost:8080/",
          "height": 1000
        },
        "id": "mKlnwJ__hfpd",
        "outputId": "c12aa505-f70a-4985-ed5d-f4c934d0df24"
      },
      "execution_count": 4,
      "outputs": [
        {
          "output_type": "execute_result",
          "data": {
            "text/plain": [
              "                               0          1          2          3          4\n",
              "Sl. No                         1          2          3          4          5\n",
              "Patient File No.               1          2          3          4          5\n",
              "PCOS (Y/N)                     0          0          1          0          0\n",
              " Age (yrs)                    28         36         33         37         25\n",
              "Weight (Kg)                 44.6       65.0       68.8       65.0       52.0\n",
              "Height(Cm)                 152.0      161.5      165.0      148.0      161.0\n",
              "BMI                         19.3  24.921163  25.270891  29.674945  20.060954\n",
              "Blood Group                   15         15         11         13         11\n",
              "Pulse rate(bpm)               78         74         72         72         72\n",
              "RR (breaths/min)              22         20         18         20         18\n",
              "Hb(g/dl)                   10.48       11.7       11.8       12.0       10.0\n",
              "Cycle(R/I)                     2          2          2          2          2\n",
              "Cycle length(days)             5          5          5          5          5\n",
              "Marraige Status (Yrs)        7.0       11.0       10.0        4.0        1.0\n",
              "Pregnant(Y/N)                  0          1          1          0          1\n",
              "No. of aborptions              0          0          0          0          0\n",
              "  I   beta-HCG(mIU/mL)      1.99       60.8     494.08       1.99     801.45\n",
              "II    beta-HCG(mIU/mL)      1.99       1.99     494.08       1.99     801.45\n",
              "FSH(mIU/mL)                 7.95       6.73       5.54       8.06       3.98\n",
              "LH(mIU/mL)                  3.68       1.09       0.88       2.36        0.9\n",
              "FSH/LH                  2.160326   6.174312   6.295455   3.415254   4.422222\n",
              "Hip(inch)                     36         38         40         42         37\n",
              "Waist(inch)                   30         32         36         36         30\n",
              "Waist:Hip Ratio         0.833333   0.842105        0.9   0.857143   0.810811\n",
              "TSH (mIU/L)                 0.68       3.16       2.54      16.41       3.57\n",
              "AMH(ng/mL)                  2.07       1.53       6.63       1.22       2.26\n",
              "PRL(ng/mL)                 45.16      20.09      10.52       36.9      30.09\n",
              "Vit D3 (ng/mL)              17.1       61.3       49.7       33.4       43.8\n",
              "PRG(ng/mL)                  0.57       0.97       0.36       0.36       0.38\n",
              "RBS(mg/dl)                  92.0       92.0       84.0       76.0       84.0\n",
              "Weight gain(Y/N)               0          0          0          0          0\n",
              "hair growth(Y/N)               0          0          0          0          0\n",
              "Skin darkening (Y/N)           0          0          0          0          0\n",
              "Hair loss(Y/N)                 0          0          1          0          1\n",
              "Pimples(Y/N)                   0          0          1          0          0\n",
              "Fast food (Y/N)              1.0        0.0        1.0        0.0        0.0\n",
              "Reg.Exercise(Y/N)              0          0          0          0          0\n",
              "BP _Systolic (mmHg)          110        120        120        120        120\n",
              "BP _Diastolic (mmHg)          80         70         80         70         80\n",
              "Follicle No. (L)               3          3         13          2          3\n",
              "Follicle No. (R)               3          5         15          2          4\n",
              "Avg. F size (L) (mm)        18.0       15.0       18.0       15.0       16.0\n",
              "Avg. F size (R) (mm)        18.0       14.0       20.0       14.0       14.0\n",
              "Endometrium (mm)             8.5        3.7       10.0        7.5        7.0\n",
              "Unnamed: 44                  NaN        NaN        NaN        NaN        NaN"
            ],
            "text/html": [
              "\n",
              "  <div id=\"df-d5c7fad7-4a37-48d7-b99e-598229ef6e3a\" class=\"colab-df-container\">\n",
              "    <div>\n",
              "<style scoped>\n",
              "    .dataframe tbody tr th:only-of-type {\n",
              "        vertical-align: middle;\n",
              "    }\n",
              "\n",
              "    .dataframe tbody tr th {\n",
              "        vertical-align: top;\n",
              "    }\n",
              "\n",
              "    .dataframe thead th {\n",
              "        text-align: right;\n",
              "    }\n",
              "</style>\n",
              "<table border=\"1\" class=\"dataframe\">\n",
              "  <thead>\n",
              "    <tr style=\"text-align: right;\">\n",
              "      <th></th>\n",
              "      <th>0</th>\n",
              "      <th>1</th>\n",
              "      <th>2</th>\n",
              "      <th>3</th>\n",
              "      <th>4</th>\n",
              "    </tr>\n",
              "  </thead>\n",
              "  <tbody>\n",
              "    <tr>\n",
              "      <th>Sl. No</th>\n",
              "      <td>1</td>\n",
              "      <td>2</td>\n",
              "      <td>3</td>\n",
              "      <td>4</td>\n",
              "      <td>5</td>\n",
              "    </tr>\n",
              "    <tr>\n",
              "      <th>Patient File No.</th>\n",
              "      <td>1</td>\n",
              "      <td>2</td>\n",
              "      <td>3</td>\n",
              "      <td>4</td>\n",
              "      <td>5</td>\n",
              "    </tr>\n",
              "    <tr>\n",
              "      <th>PCOS (Y/N)</th>\n",
              "      <td>0</td>\n",
              "      <td>0</td>\n",
              "      <td>1</td>\n",
              "      <td>0</td>\n",
              "      <td>0</td>\n",
              "    </tr>\n",
              "    <tr>\n",
              "      <th>Age (yrs)</th>\n",
              "      <td>28</td>\n",
              "      <td>36</td>\n",
              "      <td>33</td>\n",
              "      <td>37</td>\n",
              "      <td>25</td>\n",
              "    </tr>\n",
              "    <tr>\n",
              "      <th>Weight (Kg)</th>\n",
              "      <td>44.6</td>\n",
              "      <td>65.0</td>\n",
              "      <td>68.8</td>\n",
              "      <td>65.0</td>\n",
              "      <td>52.0</td>\n",
              "    </tr>\n",
              "    <tr>\n",
              "      <th>Height(Cm)</th>\n",
              "      <td>152.0</td>\n",
              "      <td>161.5</td>\n",
              "      <td>165.0</td>\n",
              "      <td>148.0</td>\n",
              "      <td>161.0</td>\n",
              "    </tr>\n",
              "    <tr>\n",
              "      <th>BMI</th>\n",
              "      <td>19.3</td>\n",
              "      <td>24.921163</td>\n",
              "      <td>25.270891</td>\n",
              "      <td>29.674945</td>\n",
              "      <td>20.060954</td>\n",
              "    </tr>\n",
              "    <tr>\n",
              "      <th>Blood Group</th>\n",
              "      <td>15</td>\n",
              "      <td>15</td>\n",
              "      <td>11</td>\n",
              "      <td>13</td>\n",
              "      <td>11</td>\n",
              "    </tr>\n",
              "    <tr>\n",
              "      <th>Pulse rate(bpm)</th>\n",
              "      <td>78</td>\n",
              "      <td>74</td>\n",
              "      <td>72</td>\n",
              "      <td>72</td>\n",
              "      <td>72</td>\n",
              "    </tr>\n",
              "    <tr>\n",
              "      <th>RR (breaths/min)</th>\n",
              "      <td>22</td>\n",
              "      <td>20</td>\n",
              "      <td>18</td>\n",
              "      <td>20</td>\n",
              "      <td>18</td>\n",
              "    </tr>\n",
              "    <tr>\n",
              "      <th>Hb(g/dl)</th>\n",
              "      <td>10.48</td>\n",
              "      <td>11.7</td>\n",
              "      <td>11.8</td>\n",
              "      <td>12.0</td>\n",
              "      <td>10.0</td>\n",
              "    </tr>\n",
              "    <tr>\n",
              "      <th>Cycle(R/I)</th>\n",
              "      <td>2</td>\n",
              "      <td>2</td>\n",
              "      <td>2</td>\n",
              "      <td>2</td>\n",
              "      <td>2</td>\n",
              "    </tr>\n",
              "    <tr>\n",
              "      <th>Cycle length(days)</th>\n",
              "      <td>5</td>\n",
              "      <td>5</td>\n",
              "      <td>5</td>\n",
              "      <td>5</td>\n",
              "      <td>5</td>\n",
              "    </tr>\n",
              "    <tr>\n",
              "      <th>Marraige Status (Yrs)</th>\n",
              "      <td>7.0</td>\n",
              "      <td>11.0</td>\n",
              "      <td>10.0</td>\n",
              "      <td>4.0</td>\n",
              "      <td>1.0</td>\n",
              "    </tr>\n",
              "    <tr>\n",
              "      <th>Pregnant(Y/N)</th>\n",
              "      <td>0</td>\n",
              "      <td>1</td>\n",
              "      <td>1</td>\n",
              "      <td>0</td>\n",
              "      <td>1</td>\n",
              "    </tr>\n",
              "    <tr>\n",
              "      <th>No. of aborptions</th>\n",
              "      <td>0</td>\n",
              "      <td>0</td>\n",
              "      <td>0</td>\n",
              "      <td>0</td>\n",
              "      <td>0</td>\n",
              "    </tr>\n",
              "    <tr>\n",
              "      <th>I   beta-HCG(mIU/mL)</th>\n",
              "      <td>1.99</td>\n",
              "      <td>60.8</td>\n",
              "      <td>494.08</td>\n",
              "      <td>1.99</td>\n",
              "      <td>801.45</td>\n",
              "    </tr>\n",
              "    <tr>\n",
              "      <th>II    beta-HCG(mIU/mL)</th>\n",
              "      <td>1.99</td>\n",
              "      <td>1.99</td>\n",
              "      <td>494.08</td>\n",
              "      <td>1.99</td>\n",
              "      <td>801.45</td>\n",
              "    </tr>\n",
              "    <tr>\n",
              "      <th>FSH(mIU/mL)</th>\n",
              "      <td>7.95</td>\n",
              "      <td>6.73</td>\n",
              "      <td>5.54</td>\n",
              "      <td>8.06</td>\n",
              "      <td>3.98</td>\n",
              "    </tr>\n",
              "    <tr>\n",
              "      <th>LH(mIU/mL)</th>\n",
              "      <td>3.68</td>\n",
              "      <td>1.09</td>\n",
              "      <td>0.88</td>\n",
              "      <td>2.36</td>\n",
              "      <td>0.9</td>\n",
              "    </tr>\n",
              "    <tr>\n",
              "      <th>FSH/LH</th>\n",
              "      <td>2.160326</td>\n",
              "      <td>6.174312</td>\n",
              "      <td>6.295455</td>\n",
              "      <td>3.415254</td>\n",
              "      <td>4.422222</td>\n",
              "    </tr>\n",
              "    <tr>\n",
              "      <th>Hip(inch)</th>\n",
              "      <td>36</td>\n",
              "      <td>38</td>\n",
              "      <td>40</td>\n",
              "      <td>42</td>\n",
              "      <td>37</td>\n",
              "    </tr>\n",
              "    <tr>\n",
              "      <th>Waist(inch)</th>\n",
              "      <td>30</td>\n",
              "      <td>32</td>\n",
              "      <td>36</td>\n",
              "      <td>36</td>\n",
              "      <td>30</td>\n",
              "    </tr>\n",
              "    <tr>\n",
              "      <th>Waist:Hip Ratio</th>\n",
              "      <td>0.833333</td>\n",
              "      <td>0.842105</td>\n",
              "      <td>0.9</td>\n",
              "      <td>0.857143</td>\n",
              "      <td>0.810811</td>\n",
              "    </tr>\n",
              "    <tr>\n",
              "      <th>TSH (mIU/L)</th>\n",
              "      <td>0.68</td>\n",
              "      <td>3.16</td>\n",
              "      <td>2.54</td>\n",
              "      <td>16.41</td>\n",
              "      <td>3.57</td>\n",
              "    </tr>\n",
              "    <tr>\n",
              "      <th>AMH(ng/mL)</th>\n",
              "      <td>2.07</td>\n",
              "      <td>1.53</td>\n",
              "      <td>6.63</td>\n",
              "      <td>1.22</td>\n",
              "      <td>2.26</td>\n",
              "    </tr>\n",
              "    <tr>\n",
              "      <th>PRL(ng/mL)</th>\n",
              "      <td>45.16</td>\n",
              "      <td>20.09</td>\n",
              "      <td>10.52</td>\n",
              "      <td>36.9</td>\n",
              "      <td>30.09</td>\n",
              "    </tr>\n",
              "    <tr>\n",
              "      <th>Vit D3 (ng/mL)</th>\n",
              "      <td>17.1</td>\n",
              "      <td>61.3</td>\n",
              "      <td>49.7</td>\n",
              "      <td>33.4</td>\n",
              "      <td>43.8</td>\n",
              "    </tr>\n",
              "    <tr>\n",
              "      <th>PRG(ng/mL)</th>\n",
              "      <td>0.57</td>\n",
              "      <td>0.97</td>\n",
              "      <td>0.36</td>\n",
              "      <td>0.36</td>\n",
              "      <td>0.38</td>\n",
              "    </tr>\n",
              "    <tr>\n",
              "      <th>RBS(mg/dl)</th>\n",
              "      <td>92.0</td>\n",
              "      <td>92.0</td>\n",
              "      <td>84.0</td>\n",
              "      <td>76.0</td>\n",
              "      <td>84.0</td>\n",
              "    </tr>\n",
              "    <tr>\n",
              "      <th>Weight gain(Y/N)</th>\n",
              "      <td>0</td>\n",
              "      <td>0</td>\n",
              "      <td>0</td>\n",
              "      <td>0</td>\n",
              "      <td>0</td>\n",
              "    </tr>\n",
              "    <tr>\n",
              "      <th>hair growth(Y/N)</th>\n",
              "      <td>0</td>\n",
              "      <td>0</td>\n",
              "      <td>0</td>\n",
              "      <td>0</td>\n",
              "      <td>0</td>\n",
              "    </tr>\n",
              "    <tr>\n",
              "      <th>Skin darkening (Y/N)</th>\n",
              "      <td>0</td>\n",
              "      <td>0</td>\n",
              "      <td>0</td>\n",
              "      <td>0</td>\n",
              "      <td>0</td>\n",
              "    </tr>\n",
              "    <tr>\n",
              "      <th>Hair loss(Y/N)</th>\n",
              "      <td>0</td>\n",
              "      <td>0</td>\n",
              "      <td>1</td>\n",
              "      <td>0</td>\n",
              "      <td>1</td>\n",
              "    </tr>\n",
              "    <tr>\n",
              "      <th>Pimples(Y/N)</th>\n",
              "      <td>0</td>\n",
              "      <td>0</td>\n",
              "      <td>1</td>\n",
              "      <td>0</td>\n",
              "      <td>0</td>\n",
              "    </tr>\n",
              "    <tr>\n",
              "      <th>Fast food (Y/N)</th>\n",
              "      <td>1.0</td>\n",
              "      <td>0.0</td>\n",
              "      <td>1.0</td>\n",
              "      <td>0.0</td>\n",
              "      <td>0.0</td>\n",
              "    </tr>\n",
              "    <tr>\n",
              "      <th>Reg.Exercise(Y/N)</th>\n",
              "      <td>0</td>\n",
              "      <td>0</td>\n",
              "      <td>0</td>\n",
              "      <td>0</td>\n",
              "      <td>0</td>\n",
              "    </tr>\n",
              "    <tr>\n",
              "      <th>BP _Systolic (mmHg)</th>\n",
              "      <td>110</td>\n",
              "      <td>120</td>\n",
              "      <td>120</td>\n",
              "      <td>120</td>\n",
              "      <td>120</td>\n",
              "    </tr>\n",
              "    <tr>\n",
              "      <th>BP _Diastolic (mmHg)</th>\n",
              "      <td>80</td>\n",
              "      <td>70</td>\n",
              "      <td>80</td>\n",
              "      <td>70</td>\n",
              "      <td>80</td>\n",
              "    </tr>\n",
              "    <tr>\n",
              "      <th>Follicle No. (L)</th>\n",
              "      <td>3</td>\n",
              "      <td>3</td>\n",
              "      <td>13</td>\n",
              "      <td>2</td>\n",
              "      <td>3</td>\n",
              "    </tr>\n",
              "    <tr>\n",
              "      <th>Follicle No. (R)</th>\n",
              "      <td>3</td>\n",
              "      <td>5</td>\n",
              "      <td>15</td>\n",
              "      <td>2</td>\n",
              "      <td>4</td>\n",
              "    </tr>\n",
              "    <tr>\n",
              "      <th>Avg. F size (L) (mm)</th>\n",
              "      <td>18.0</td>\n",
              "      <td>15.0</td>\n",
              "      <td>18.0</td>\n",
              "      <td>15.0</td>\n",
              "      <td>16.0</td>\n",
              "    </tr>\n",
              "    <tr>\n",
              "      <th>Avg. F size (R) (mm)</th>\n",
              "      <td>18.0</td>\n",
              "      <td>14.0</td>\n",
              "      <td>20.0</td>\n",
              "      <td>14.0</td>\n",
              "      <td>14.0</td>\n",
              "    </tr>\n",
              "    <tr>\n",
              "      <th>Endometrium (mm)</th>\n",
              "      <td>8.5</td>\n",
              "      <td>3.7</td>\n",
              "      <td>10.0</td>\n",
              "      <td>7.5</td>\n",
              "      <td>7.0</td>\n",
              "    </tr>\n",
              "    <tr>\n",
              "      <th>Unnamed: 44</th>\n",
              "      <td>NaN</td>\n",
              "      <td>NaN</td>\n",
              "      <td>NaN</td>\n",
              "      <td>NaN</td>\n",
              "      <td>NaN</td>\n",
              "    </tr>\n",
              "  </tbody>\n",
              "</table>\n",
              "</div>\n",
              "    <div class=\"colab-df-buttons\">\n",
              "\n",
              "  <div class=\"colab-df-container\">\n",
              "    <button class=\"colab-df-convert\" onclick=\"convertToInteractive('df-d5c7fad7-4a37-48d7-b99e-598229ef6e3a')\"\n",
              "            title=\"Convert this dataframe to an interactive table.\"\n",
              "            style=\"display:none;\">\n",
              "\n",
              "  <svg xmlns=\"http://www.w3.org/2000/svg\" height=\"24px\" viewBox=\"0 -960 960 960\">\n",
              "    <path d=\"M120-120v-720h720v720H120Zm60-500h600v-160H180v160Zm220 220h160v-160H400v160Zm0 220h160v-160H400v160ZM180-400h160v-160H180v160Zm440 0h160v-160H620v160ZM180-180h160v-160H180v160Zm440 0h160v-160H620v160Z\"/>\n",
              "  </svg>\n",
              "    </button>\n",
              "\n",
              "  <style>\n",
              "    .colab-df-container {\n",
              "      display:flex;\n",
              "      gap: 12px;\n",
              "    }\n",
              "\n",
              "    .colab-df-convert {\n",
              "      background-color: #E8F0FE;\n",
              "      border: none;\n",
              "      border-radius: 50%;\n",
              "      cursor: pointer;\n",
              "      display: none;\n",
              "      fill: #1967D2;\n",
              "      height: 32px;\n",
              "      padding: 0 0 0 0;\n",
              "      width: 32px;\n",
              "    }\n",
              "\n",
              "    .colab-df-convert:hover {\n",
              "      background-color: #E2EBFA;\n",
              "      box-shadow: 0px 1px 2px rgba(60, 64, 67, 0.3), 0px 1px 3px 1px rgba(60, 64, 67, 0.15);\n",
              "      fill: #174EA6;\n",
              "    }\n",
              "\n",
              "    .colab-df-buttons div {\n",
              "      margin-bottom: 4px;\n",
              "    }\n",
              "\n",
              "    [theme=dark] .colab-df-convert {\n",
              "      background-color: #3B4455;\n",
              "      fill: #D2E3FC;\n",
              "    }\n",
              "\n",
              "    [theme=dark] .colab-df-convert:hover {\n",
              "      background-color: #434B5C;\n",
              "      box-shadow: 0px 1px 3px 1px rgba(0, 0, 0, 0.15);\n",
              "      filter: drop-shadow(0px 1px 2px rgba(0, 0, 0, 0.3));\n",
              "      fill: #FFFFFF;\n",
              "    }\n",
              "  </style>\n",
              "\n",
              "    <script>\n",
              "      const buttonEl =\n",
              "        document.querySelector('#df-d5c7fad7-4a37-48d7-b99e-598229ef6e3a button.colab-df-convert');\n",
              "      buttonEl.style.display =\n",
              "        google.colab.kernel.accessAllowed ? 'block' : 'none';\n",
              "\n",
              "      async function convertToInteractive(key) {\n",
              "        const element = document.querySelector('#df-d5c7fad7-4a37-48d7-b99e-598229ef6e3a');\n",
              "        const dataTable =\n",
              "          await google.colab.kernel.invokeFunction('convertToInteractive',\n",
              "                                                    [key], {});\n",
              "        if (!dataTable) return;\n",
              "\n",
              "        const docLinkHtml = 'Like what you see? Visit the ' +\n",
              "          '<a target=\"_blank\" href=https://colab.research.google.com/notebooks/data_table.ipynb>data table notebook</a>'\n",
              "          + ' to learn more about interactive tables.';\n",
              "        element.innerHTML = '';\n",
              "        dataTable['output_type'] = 'display_data';\n",
              "        await google.colab.output.renderOutput(dataTable, element);\n",
              "        const docLink = document.createElement('div');\n",
              "        docLink.innerHTML = docLinkHtml;\n",
              "        element.appendChild(docLink);\n",
              "      }\n",
              "    </script>\n",
              "  </div>\n",
              "\n",
              "\n",
              "<div id=\"df-ab2c2673-2d8d-4d46-9f37-e636abcc6292\">\n",
              "  <button class=\"colab-df-quickchart\" onclick=\"quickchart('df-ab2c2673-2d8d-4d46-9f37-e636abcc6292')\"\n",
              "            title=\"Suggest charts\"\n",
              "            style=\"display:none;\">\n",
              "\n",
              "<svg xmlns=\"http://www.w3.org/2000/svg\" height=\"24px\"viewBox=\"0 0 24 24\"\n",
              "     width=\"24px\">\n",
              "    <g>\n",
              "        <path d=\"M19 3H5c-1.1 0-2 .9-2 2v14c0 1.1.9 2 2 2h14c1.1 0 2-.9 2-2V5c0-1.1-.9-2-2-2zM9 17H7v-7h2v7zm4 0h-2V7h2v10zm4 0h-2v-4h2v4z\"/>\n",
              "    </g>\n",
              "</svg>\n",
              "  </button>\n",
              "\n",
              "<style>\n",
              "  .colab-df-quickchart {\n",
              "      --bg-color: #E8F0FE;\n",
              "      --fill-color: #1967D2;\n",
              "      --hover-bg-color: #E2EBFA;\n",
              "      --hover-fill-color: #174EA6;\n",
              "      --disabled-fill-color: #AAA;\n",
              "      --disabled-bg-color: #DDD;\n",
              "  }\n",
              "\n",
              "  [theme=dark] .colab-df-quickchart {\n",
              "      --bg-color: #3B4455;\n",
              "      --fill-color: #D2E3FC;\n",
              "      --hover-bg-color: #434B5C;\n",
              "      --hover-fill-color: #FFFFFF;\n",
              "      --disabled-bg-color: #3B4455;\n",
              "      --disabled-fill-color: #666;\n",
              "  }\n",
              "\n",
              "  .colab-df-quickchart {\n",
              "    background-color: var(--bg-color);\n",
              "    border: none;\n",
              "    border-radius: 50%;\n",
              "    cursor: pointer;\n",
              "    display: none;\n",
              "    fill: var(--fill-color);\n",
              "    height: 32px;\n",
              "    padding: 0;\n",
              "    width: 32px;\n",
              "  }\n",
              "\n",
              "  .colab-df-quickchart:hover {\n",
              "    background-color: var(--hover-bg-color);\n",
              "    box-shadow: 0 1px 2px rgba(60, 64, 67, 0.3), 0 1px 3px 1px rgba(60, 64, 67, 0.15);\n",
              "    fill: var(--button-hover-fill-color);\n",
              "  }\n",
              "\n",
              "  .colab-df-quickchart-complete:disabled,\n",
              "  .colab-df-quickchart-complete:disabled:hover {\n",
              "    background-color: var(--disabled-bg-color);\n",
              "    fill: var(--disabled-fill-color);\n",
              "    box-shadow: none;\n",
              "  }\n",
              "\n",
              "  .colab-df-spinner {\n",
              "    border: 2px solid var(--fill-color);\n",
              "    border-color: transparent;\n",
              "    border-bottom-color: var(--fill-color);\n",
              "    animation:\n",
              "      spin 1s steps(1) infinite;\n",
              "  }\n",
              "\n",
              "  @keyframes spin {\n",
              "    0% {\n",
              "      border-color: transparent;\n",
              "      border-bottom-color: var(--fill-color);\n",
              "      border-left-color: var(--fill-color);\n",
              "    }\n",
              "    20% {\n",
              "      border-color: transparent;\n",
              "      border-left-color: var(--fill-color);\n",
              "      border-top-color: var(--fill-color);\n",
              "    }\n",
              "    30% {\n",
              "      border-color: transparent;\n",
              "      border-left-color: var(--fill-color);\n",
              "      border-top-color: var(--fill-color);\n",
              "      border-right-color: var(--fill-color);\n",
              "    }\n",
              "    40% {\n",
              "      border-color: transparent;\n",
              "      border-right-color: var(--fill-color);\n",
              "      border-top-color: var(--fill-color);\n",
              "    }\n",
              "    60% {\n",
              "      border-color: transparent;\n",
              "      border-right-color: var(--fill-color);\n",
              "    }\n",
              "    80% {\n",
              "      border-color: transparent;\n",
              "      border-right-color: var(--fill-color);\n",
              "      border-bottom-color: var(--fill-color);\n",
              "    }\n",
              "    90% {\n",
              "      border-color: transparent;\n",
              "      border-bottom-color: var(--fill-color);\n",
              "    }\n",
              "  }\n",
              "</style>\n",
              "\n",
              "  <script>\n",
              "    async function quickchart(key) {\n",
              "      const quickchartButtonEl =\n",
              "        document.querySelector('#' + key + ' button');\n",
              "      quickchartButtonEl.disabled = true;  // To prevent multiple clicks.\n",
              "      quickchartButtonEl.classList.add('colab-df-spinner');\n",
              "      try {\n",
              "        const charts = await google.colab.kernel.invokeFunction(\n",
              "            'suggestCharts', [key], {});\n",
              "      } catch (error) {\n",
              "        console.error('Error during call to suggestCharts:', error);\n",
              "      }\n",
              "      quickchartButtonEl.classList.remove('colab-df-spinner');\n",
              "      quickchartButtonEl.classList.add('colab-df-quickchart-complete');\n",
              "    }\n",
              "    (() => {\n",
              "      let quickchartButtonEl =\n",
              "        document.querySelector('#df-ab2c2673-2d8d-4d46-9f37-e636abcc6292 button');\n",
              "      quickchartButtonEl.style.display =\n",
              "        google.colab.kernel.accessAllowed ? 'block' : 'none';\n",
              "    })();\n",
              "  </script>\n",
              "</div>\n",
              "    </div>\n",
              "  </div>\n"
            ],
            "application/vnd.google.colaboratory.intrinsic+json": {
              "type": "dataframe",
              "variable_name": "df"
            }
          },
          "metadata": {},
          "execution_count": 4
        }
      ]
    },
    {
      "cell_type": "code",
      "source": [
        "df.info()"
      ],
      "metadata": {
        "colab": {
          "base_uri": "https://localhost:8080/"
        },
        "id": "eShcRCFkkl3q",
        "outputId": "57ff7755-7dbf-41d1-c607-64f2a47e4e0f"
      },
      "execution_count": 5,
      "outputs": [
        {
          "output_type": "stream",
          "name": "stdout",
          "text": [
            "<class 'pandas.core.frame.DataFrame'>\n",
            "RangeIndex: 541 entries, 0 to 540\n",
            "Data columns (total 45 columns):\n",
            " #   Column                  Non-Null Count  Dtype  \n",
            "---  ------                  --------------  -----  \n",
            " 0   Sl. No                  541 non-null    int64  \n",
            " 1   Patient File No.        541 non-null    int64  \n",
            " 2   PCOS (Y/N)              541 non-null    int64  \n",
            " 3    Age (yrs)              541 non-null    int64  \n",
            " 4   Weight (Kg)             541 non-null    float64\n",
            " 5   Height(Cm)              541 non-null    float64\n",
            " 6   BMI                     541 non-null    float64\n",
            " 7   Blood Group             541 non-null    int64  \n",
            " 8   Pulse rate(bpm)         541 non-null    int64  \n",
            " 9   RR (breaths/min)        541 non-null    int64  \n",
            " 10  Hb(g/dl)                541 non-null    float64\n",
            " 11  Cycle(R/I)              541 non-null    int64  \n",
            " 12  Cycle length(days)      541 non-null    int64  \n",
            " 13  Marraige Status (Yrs)   540 non-null    float64\n",
            " 14  Pregnant(Y/N)           541 non-null    int64  \n",
            " 15  No. of aborptions       541 non-null    int64  \n",
            " 16    I   beta-HCG(mIU/mL)  541 non-null    float64\n",
            " 17  II    beta-HCG(mIU/mL)  541 non-null    object \n",
            " 18  FSH(mIU/mL)             541 non-null    float64\n",
            " 19  LH(mIU/mL)              541 non-null    float64\n",
            " 20  FSH/LH                  541 non-null    float64\n",
            " 21  Hip(inch)               541 non-null    int64  \n",
            " 22  Waist(inch)             541 non-null    int64  \n",
            " 23  Waist:Hip Ratio         541 non-null    float64\n",
            " 24  TSH (mIU/L)             541 non-null    float64\n",
            " 25  AMH(ng/mL)              541 non-null    object \n",
            " 26  PRL(ng/mL)              541 non-null    float64\n",
            " 27  Vit D3 (ng/mL)          541 non-null    float64\n",
            " 28  PRG(ng/mL)              541 non-null    float64\n",
            " 29  RBS(mg/dl)              541 non-null    float64\n",
            " 30  Weight gain(Y/N)        541 non-null    int64  \n",
            " 31  hair growth(Y/N)        541 non-null    int64  \n",
            " 32  Skin darkening (Y/N)    541 non-null    int64  \n",
            " 33  Hair loss(Y/N)          541 non-null    int64  \n",
            " 34  Pimples(Y/N)            541 non-null    int64  \n",
            " 35  Fast food (Y/N)         540 non-null    float64\n",
            " 36  Reg.Exercise(Y/N)       541 non-null    int64  \n",
            " 37  BP _Systolic (mmHg)     541 non-null    int64  \n",
            " 38  BP _Diastolic (mmHg)    541 non-null    int64  \n",
            " 39  Follicle No. (L)        541 non-null    int64  \n",
            " 40  Follicle No. (R)        541 non-null    int64  \n",
            " 41  Avg. F size (L) (mm)    541 non-null    float64\n",
            " 42  Avg. F size (R) (mm)    541 non-null    float64\n",
            " 43  Endometrium (mm)        541 non-null    float64\n",
            " 44  Unnamed: 44             2 non-null      object \n",
            "dtypes: float64(19), int64(23), object(3)\n",
            "memory usage: 190.3+ KB\n"
          ]
        }
      ]
    },
    {
      "cell_type": "code",
      "source": [
        "lst_missing_columns = df.columns[df.isna().any()].tolist()\n",
        "print(lst_missing_columns)\n"
      ],
      "metadata": {
        "colab": {
          "base_uri": "https://localhost:8080/"
        },
        "id": "eqfX4OUpe92e",
        "outputId": "958b3c20-b854-49d4-d1dc-9a28147943ed"
      },
      "execution_count": 6,
      "outputs": [
        {
          "output_type": "stream",
          "name": "stdout",
          "text": [
            "['Marraige Status (Yrs)', 'Fast food (Y/N)', 'Unnamed: 44']\n"
          ]
        }
      ]
    },
    {
      "cell_type": "markdown",
      "source": [
        "Identifying non-numeric columns in the dataset"
      ],
      "metadata": {
        "id": "UqIefe16cQBc"
      }
    },
    {
      "cell_type": "code",
      "source": [
        "non_numeric_columns = df.select_dtypes(exclude=[np.number]).columns\n",
        "print(\"Columns with non-numeric values:\", non_numeric_columns)"
      ],
      "metadata": {
        "colab": {
          "base_uri": "https://localhost:8080/"
        },
        "id": "5R0nbMd6a17t",
        "outputId": "0ba73ef1-3e3d-4f36-fc55-8eda4db3fbe2"
      },
      "execution_count": 7,
      "outputs": [
        {
          "output_type": "stream",
          "name": "stdout",
          "text": [
            "Columns with non-numeric values: Index(['II    beta-HCG(mIU/mL)', 'AMH(ng/mL)', 'Unnamed: 44'], dtype='object')\n"
          ]
        }
      ]
    },
    {
      "cell_type": "markdown",
      "source": [
        "removal of unnamed column which only has 2 values and they are non-numeric as well"
      ],
      "metadata": {
        "id": "OMK1TtL1lhQI"
      }
    },
    {
      "cell_type": "code",
      "source": [
        "df = df.drop(columns=[\"Unnamed: 44\"])"
      ],
      "metadata": {
        "id": "bUr2MBs8k49w"
      },
      "execution_count": 8,
      "outputs": []
    },
    {
      "cell_type": "code",
      "source": [
        "df.info()"
      ],
      "metadata": {
        "colab": {
          "base_uri": "https://localhost:8080/"
        },
        "id": "CdfoX7i2lVXC",
        "outputId": "47f4d4e9-841b-4792-c26b-ded0583abd17"
      },
      "execution_count": 9,
      "outputs": [
        {
          "output_type": "stream",
          "name": "stdout",
          "text": [
            "<class 'pandas.core.frame.DataFrame'>\n",
            "RangeIndex: 541 entries, 0 to 540\n",
            "Data columns (total 44 columns):\n",
            " #   Column                  Non-Null Count  Dtype  \n",
            "---  ------                  --------------  -----  \n",
            " 0   Sl. No                  541 non-null    int64  \n",
            " 1   Patient File No.        541 non-null    int64  \n",
            " 2   PCOS (Y/N)              541 non-null    int64  \n",
            " 3    Age (yrs)              541 non-null    int64  \n",
            " 4   Weight (Kg)             541 non-null    float64\n",
            " 5   Height(Cm)              541 non-null    float64\n",
            " 6   BMI                     541 non-null    float64\n",
            " 7   Blood Group             541 non-null    int64  \n",
            " 8   Pulse rate(bpm)         541 non-null    int64  \n",
            " 9   RR (breaths/min)        541 non-null    int64  \n",
            " 10  Hb(g/dl)                541 non-null    float64\n",
            " 11  Cycle(R/I)              541 non-null    int64  \n",
            " 12  Cycle length(days)      541 non-null    int64  \n",
            " 13  Marraige Status (Yrs)   540 non-null    float64\n",
            " 14  Pregnant(Y/N)           541 non-null    int64  \n",
            " 15  No. of aborptions       541 non-null    int64  \n",
            " 16    I   beta-HCG(mIU/mL)  541 non-null    float64\n",
            " 17  II    beta-HCG(mIU/mL)  541 non-null    object \n",
            " 18  FSH(mIU/mL)             541 non-null    float64\n",
            " 19  LH(mIU/mL)              541 non-null    float64\n",
            " 20  FSH/LH                  541 non-null    float64\n",
            " 21  Hip(inch)               541 non-null    int64  \n",
            " 22  Waist(inch)             541 non-null    int64  \n",
            " 23  Waist:Hip Ratio         541 non-null    float64\n",
            " 24  TSH (mIU/L)             541 non-null    float64\n",
            " 25  AMH(ng/mL)              541 non-null    object \n",
            " 26  PRL(ng/mL)              541 non-null    float64\n",
            " 27  Vit D3 (ng/mL)          541 non-null    float64\n",
            " 28  PRG(ng/mL)              541 non-null    float64\n",
            " 29  RBS(mg/dl)              541 non-null    float64\n",
            " 30  Weight gain(Y/N)        541 non-null    int64  \n",
            " 31  hair growth(Y/N)        541 non-null    int64  \n",
            " 32  Skin darkening (Y/N)    541 non-null    int64  \n",
            " 33  Hair loss(Y/N)          541 non-null    int64  \n",
            " 34  Pimples(Y/N)            541 non-null    int64  \n",
            " 35  Fast food (Y/N)         540 non-null    float64\n",
            " 36  Reg.Exercise(Y/N)       541 non-null    int64  \n",
            " 37  BP _Systolic (mmHg)     541 non-null    int64  \n",
            " 38  BP _Diastolic (mmHg)    541 non-null    int64  \n",
            " 39  Follicle No. (L)        541 non-null    int64  \n",
            " 40  Follicle No. (R)        541 non-null    int64  \n",
            " 41  Avg. F size (L) (mm)    541 non-null    float64\n",
            " 42  Avg. F size (R) (mm)    541 non-null    float64\n",
            " 43  Endometrium (mm)        541 non-null    float64\n",
            "dtypes: float64(19), int64(23), object(2)\n",
            "memory usage: 186.1+ KB\n"
          ]
        }
      ]
    },
    {
      "cell_type": "markdown",
      "source": [
        "identifying the remaining columns with missing values"
      ],
      "metadata": {
        "id": "A9F5VT4BS1C2"
      }
    },
    {
      "cell_type": "code",
      "source": [
        "lst_missing_columns = df.columns[df.isna().any()].tolist()\n",
        "print(lst_missing_columns)"
      ],
      "metadata": {
        "colab": {
          "base_uri": "https://localhost:8080/"
        },
        "id": "yv4zStdTmjP2",
        "outputId": "3b0452b8-8cfd-4961-b1ba-02d92f22ba60"
      },
      "execution_count": 10,
      "outputs": [
        {
          "output_type": "stream",
          "name": "stdout",
          "text": [
            "['Marraige Status (Yrs)', 'Fast food (Y/N)']\n"
          ]
        }
      ]
    },
    {
      "cell_type": "markdown",
      "source": [
        "replacing missing values with their medians"
      ],
      "metadata": {
        "id": "2g_yBo-tS6tH"
      }
    },
    {
      "cell_type": "code",
      "source": [
        "for x in lst_missing_columns:\n",
        "    df[x] = pd.to_numeric(df[x], errors='coerce')\n",
        "    df[x] = df[x].fillna(df[x].median())"
      ],
      "metadata": {
        "id": "1v2SvXAWnJ0n"
      },
      "execution_count": 11,
      "outputs": []
    },
    {
      "cell_type": "code",
      "source": [
        "df.info()"
      ],
      "metadata": {
        "colab": {
          "base_uri": "https://localhost:8080/"
        },
        "id": "uP5YYA2snNwq",
        "outputId": "e7c132c7-b571-4980-932c-6e5c724e18ac"
      },
      "execution_count": 12,
      "outputs": [
        {
          "output_type": "stream",
          "name": "stdout",
          "text": [
            "<class 'pandas.core.frame.DataFrame'>\n",
            "RangeIndex: 541 entries, 0 to 540\n",
            "Data columns (total 44 columns):\n",
            " #   Column                  Non-Null Count  Dtype  \n",
            "---  ------                  --------------  -----  \n",
            " 0   Sl. No                  541 non-null    int64  \n",
            " 1   Patient File No.        541 non-null    int64  \n",
            " 2   PCOS (Y/N)              541 non-null    int64  \n",
            " 3    Age (yrs)              541 non-null    int64  \n",
            " 4   Weight (Kg)             541 non-null    float64\n",
            " 5   Height(Cm)              541 non-null    float64\n",
            " 6   BMI                     541 non-null    float64\n",
            " 7   Blood Group             541 non-null    int64  \n",
            " 8   Pulse rate(bpm)         541 non-null    int64  \n",
            " 9   RR (breaths/min)        541 non-null    int64  \n",
            " 10  Hb(g/dl)                541 non-null    float64\n",
            " 11  Cycle(R/I)              541 non-null    int64  \n",
            " 12  Cycle length(days)      541 non-null    int64  \n",
            " 13  Marraige Status (Yrs)   541 non-null    float64\n",
            " 14  Pregnant(Y/N)           541 non-null    int64  \n",
            " 15  No. of aborptions       541 non-null    int64  \n",
            " 16    I   beta-HCG(mIU/mL)  541 non-null    float64\n",
            " 17  II    beta-HCG(mIU/mL)  541 non-null    object \n",
            " 18  FSH(mIU/mL)             541 non-null    float64\n",
            " 19  LH(mIU/mL)              541 non-null    float64\n",
            " 20  FSH/LH                  541 non-null    float64\n",
            " 21  Hip(inch)               541 non-null    int64  \n",
            " 22  Waist(inch)             541 non-null    int64  \n",
            " 23  Waist:Hip Ratio         541 non-null    float64\n",
            " 24  TSH (mIU/L)             541 non-null    float64\n",
            " 25  AMH(ng/mL)              541 non-null    object \n",
            " 26  PRL(ng/mL)              541 non-null    float64\n",
            " 27  Vit D3 (ng/mL)          541 non-null    float64\n",
            " 28  PRG(ng/mL)              541 non-null    float64\n",
            " 29  RBS(mg/dl)              541 non-null    float64\n",
            " 30  Weight gain(Y/N)        541 non-null    int64  \n",
            " 31  hair growth(Y/N)        541 non-null    int64  \n",
            " 32  Skin darkening (Y/N)    541 non-null    int64  \n",
            " 33  Hair loss(Y/N)          541 non-null    int64  \n",
            " 34  Pimples(Y/N)            541 non-null    int64  \n",
            " 35  Fast food (Y/N)         541 non-null    float64\n",
            " 36  Reg.Exercise(Y/N)       541 non-null    int64  \n",
            " 37  BP _Systolic (mmHg)     541 non-null    int64  \n",
            " 38  BP _Diastolic (mmHg)    541 non-null    int64  \n",
            " 39  Follicle No. (L)        541 non-null    int64  \n",
            " 40  Follicle No. (R)        541 non-null    int64  \n",
            " 41  Avg. F size (L) (mm)    541 non-null    float64\n",
            " 42  Avg. F size (R) (mm)    541 non-null    float64\n",
            " 43  Endometrium (mm)        541 non-null    float64\n",
            "dtypes: float64(19), int64(23), object(2)\n",
            "memory usage: 186.1+ KB\n"
          ]
        }
      ]
    },
    {
      "cell_type": "markdown",
      "source": [
        "identifying the existing non-numeric columns"
      ],
      "metadata": {
        "id": "D4UOxf4sTGnn"
      }
    },
    {
      "cell_type": "code",
      "source": [
        "non_numeric_columns = df.select_dtypes(exclude=[np.number]).columns\n",
        "print(\"Columns with non-numeric values:\", non_numeric_columns)"
      ],
      "metadata": {
        "colab": {
          "base_uri": "https://localhost:8080/"
        },
        "id": "PPBFoF2Rn031",
        "outputId": "70943bfe-93bb-4100-90e3-35783c8c1aee"
      },
      "execution_count": 13,
      "outputs": [
        {
          "output_type": "stream",
          "name": "stdout",
          "text": [
            "Columns with non-numeric values: Index(['II    beta-HCG(mIU/mL)', 'AMH(ng/mL)'], dtype='object')\n"
          ]
        }
      ]
    },
    {
      "cell_type": "markdown",
      "source": [
        "Converting non numeric values of object type to numeric type"
      ],
      "metadata": {
        "id": "h_zK-073cdkc"
      }
    },
    {
      "cell_type": "code",
      "source": [
        "df[\"AMH(ng/mL)\"] = pd.to_numeric(df[\"AMH(ng/mL)\"],errors=\"coerce\")\n",
        "df[\"II    beta-HCG(mIU/mL)\"] = pd.to_numeric(df[\"II    beta-HCG(mIU/mL)\"], errors=\"coerce\")"
      ],
      "metadata": {
        "id": "Dch1KuZ3c9OX"
      },
      "execution_count": 14,
      "outputs": []
    },
    {
      "cell_type": "code",
      "source": [
        "print(df[\"II    beta-HCG(mIU/mL)\"] )"
      ],
      "metadata": {
        "colab": {
          "base_uri": "https://localhost:8080/"
        },
        "id": "_XDje4cwoFn-",
        "outputId": "fa16aa66-6ab0-45e0-da21-c91a9eff037c"
      },
      "execution_count": 15,
      "outputs": [
        {
          "output_type": "stream",
          "name": "stdout",
          "text": [
            "0        1.99\n",
            "1        1.99\n",
            "2      494.08\n",
            "3        1.99\n",
            "4      801.45\n",
            "        ...  \n",
            "536      1.99\n",
            "537      1.99\n",
            "538      1.99\n",
            "539      1.99\n",
            "540      1.99\n",
            "Name: II    beta-HCG(mIU/mL), Length: 541, dtype: float64\n"
          ]
        }
      ]
    },
    {
      "cell_type": "code",
      "source": [
        "print(df[\"AMH(ng/mL)\"])"
      ],
      "metadata": {
        "colab": {
          "base_uri": "https://localhost:8080/"
        },
        "id": "wsfpvT1_dhi7",
        "outputId": "df9c6bab-0660-4cfb-c1ae-316ae8411764"
      },
      "execution_count": 16,
      "outputs": [
        {
          "output_type": "stream",
          "name": "stdout",
          "text": [
            "0       2.07\n",
            "1       1.53\n",
            "2       6.63\n",
            "3       1.22\n",
            "4       2.26\n",
            "       ...  \n",
            "536     1.70\n",
            "537     5.60\n",
            "538     3.70\n",
            "539     5.20\n",
            "540    20.00\n",
            "Name: AMH(ng/mL), Length: 541, dtype: float64\n"
          ]
        }
      ]
    },
    {
      "cell_type": "markdown",
      "source": [
        "if there are any unidentified columns with non numerical data, convert them to numeric"
      ],
      "metadata": {
        "id": "4fXCohB4pSGM"
      }
    },
    {
      "cell_type": "code",
      "source": [
        "for column in df.columns:\n",
        "    df[column] = pd.to_numeric(df[column], errors='coerce')"
      ],
      "metadata": {
        "id": "JQm4cgGjpNkr"
      },
      "execution_count": 17,
      "outputs": []
    },
    {
      "cell_type": "code",
      "source": [
        "df.info()"
      ],
      "metadata": {
        "colab": {
          "base_uri": "https://localhost:8080/"
        },
        "id": "TW7qCIYJpci5",
        "outputId": "3455fbe7-ba62-4c0c-ea2e-477a5b858154"
      },
      "execution_count": 18,
      "outputs": [
        {
          "output_type": "stream",
          "name": "stdout",
          "text": [
            "<class 'pandas.core.frame.DataFrame'>\n",
            "RangeIndex: 541 entries, 0 to 540\n",
            "Data columns (total 44 columns):\n",
            " #   Column                  Non-Null Count  Dtype  \n",
            "---  ------                  --------------  -----  \n",
            " 0   Sl. No                  541 non-null    int64  \n",
            " 1   Patient File No.        541 non-null    int64  \n",
            " 2   PCOS (Y/N)              541 non-null    int64  \n",
            " 3    Age (yrs)              541 non-null    int64  \n",
            " 4   Weight (Kg)             541 non-null    float64\n",
            " 5   Height(Cm)              541 non-null    float64\n",
            " 6   BMI                     541 non-null    float64\n",
            " 7   Blood Group             541 non-null    int64  \n",
            " 8   Pulse rate(bpm)         541 non-null    int64  \n",
            " 9   RR (breaths/min)        541 non-null    int64  \n",
            " 10  Hb(g/dl)                541 non-null    float64\n",
            " 11  Cycle(R/I)              541 non-null    int64  \n",
            " 12  Cycle length(days)      541 non-null    int64  \n",
            " 13  Marraige Status (Yrs)   541 non-null    float64\n",
            " 14  Pregnant(Y/N)           541 non-null    int64  \n",
            " 15  No. of aborptions       541 non-null    int64  \n",
            " 16    I   beta-HCG(mIU/mL)  541 non-null    float64\n",
            " 17  II    beta-HCG(mIU/mL)  540 non-null    float64\n",
            " 18  FSH(mIU/mL)             541 non-null    float64\n",
            " 19  LH(mIU/mL)              541 non-null    float64\n",
            " 20  FSH/LH                  541 non-null    float64\n",
            " 21  Hip(inch)               541 non-null    int64  \n",
            " 22  Waist(inch)             541 non-null    int64  \n",
            " 23  Waist:Hip Ratio         541 non-null    float64\n",
            " 24  TSH (mIU/L)             541 non-null    float64\n",
            " 25  AMH(ng/mL)              540 non-null    float64\n",
            " 26  PRL(ng/mL)              541 non-null    float64\n",
            " 27  Vit D3 (ng/mL)          541 non-null    float64\n",
            " 28  PRG(ng/mL)              541 non-null    float64\n",
            " 29  RBS(mg/dl)              541 non-null    float64\n",
            " 30  Weight gain(Y/N)        541 non-null    int64  \n",
            " 31  hair growth(Y/N)        541 non-null    int64  \n",
            " 32  Skin darkening (Y/N)    541 non-null    int64  \n",
            " 33  Hair loss(Y/N)          541 non-null    int64  \n",
            " 34  Pimples(Y/N)            541 non-null    int64  \n",
            " 35  Fast food (Y/N)         541 non-null    float64\n",
            " 36  Reg.Exercise(Y/N)       541 non-null    int64  \n",
            " 37  BP _Systolic (mmHg)     541 non-null    int64  \n",
            " 38  BP _Diastolic (mmHg)    541 non-null    int64  \n",
            " 39  Follicle No. (L)        541 non-null    int64  \n",
            " 40  Follicle No. (R)        541 non-null    int64  \n",
            " 41  Avg. F size (L) (mm)    541 non-null    float64\n",
            " 42  Avg. F size (R) (mm)    541 non-null    float64\n",
            " 43  Endometrium (mm)        541 non-null    float64\n",
            "dtypes: float64(21), int64(23)\n",
            "memory usage: 186.1 KB\n"
          ]
        }
      ]
    },
    {
      "cell_type": "markdown",
      "source": [
        "removing leading white spaces in column names"
      ],
      "metadata": {
        "id": "B7kOToyoTQUE"
      }
    },
    {
      "cell_type": "code",
      "source": [
        "df = df.rename(columns=lambda x: x.strip())"
      ],
      "metadata": {
        "id": "CMr1RhjKpwc0"
      },
      "execution_count": 19,
      "outputs": []
    },
    {
      "cell_type": "code",
      "source": [
        "df.info()"
      ],
      "metadata": {
        "colab": {
          "base_uri": "https://localhost:8080/"
        },
        "id": "9r-vupkIqPqT",
        "outputId": "3e6ead68-5663-4fca-e615-67dd00deea3b"
      },
      "execution_count": 20,
      "outputs": [
        {
          "output_type": "stream",
          "name": "stdout",
          "text": [
            "<class 'pandas.core.frame.DataFrame'>\n",
            "RangeIndex: 541 entries, 0 to 540\n",
            "Data columns (total 44 columns):\n",
            " #   Column                  Non-Null Count  Dtype  \n",
            "---  ------                  --------------  -----  \n",
            " 0   Sl. No                  541 non-null    int64  \n",
            " 1   Patient File No.        541 non-null    int64  \n",
            " 2   PCOS (Y/N)              541 non-null    int64  \n",
            " 3   Age (yrs)               541 non-null    int64  \n",
            " 4   Weight (Kg)             541 non-null    float64\n",
            " 5   Height(Cm)              541 non-null    float64\n",
            " 6   BMI                     541 non-null    float64\n",
            " 7   Blood Group             541 non-null    int64  \n",
            " 8   Pulse rate(bpm)         541 non-null    int64  \n",
            " 9   RR (breaths/min)        541 non-null    int64  \n",
            " 10  Hb(g/dl)                541 non-null    float64\n",
            " 11  Cycle(R/I)              541 non-null    int64  \n",
            " 12  Cycle length(days)      541 non-null    int64  \n",
            " 13  Marraige Status (Yrs)   541 non-null    float64\n",
            " 14  Pregnant(Y/N)           541 non-null    int64  \n",
            " 15  No. of aborptions       541 non-null    int64  \n",
            " 16  I   beta-HCG(mIU/mL)    541 non-null    float64\n",
            " 17  II    beta-HCG(mIU/mL)  540 non-null    float64\n",
            " 18  FSH(mIU/mL)             541 non-null    float64\n",
            " 19  LH(mIU/mL)              541 non-null    float64\n",
            " 20  FSH/LH                  541 non-null    float64\n",
            " 21  Hip(inch)               541 non-null    int64  \n",
            " 22  Waist(inch)             541 non-null    int64  \n",
            " 23  Waist:Hip Ratio         541 non-null    float64\n",
            " 24  TSH (mIU/L)             541 non-null    float64\n",
            " 25  AMH(ng/mL)              540 non-null    float64\n",
            " 26  PRL(ng/mL)              541 non-null    float64\n",
            " 27  Vit D3 (ng/mL)          541 non-null    float64\n",
            " 28  PRG(ng/mL)              541 non-null    float64\n",
            " 29  RBS(mg/dl)              541 non-null    float64\n",
            " 30  Weight gain(Y/N)        541 non-null    int64  \n",
            " 31  hair growth(Y/N)        541 non-null    int64  \n",
            " 32  Skin darkening (Y/N)    541 non-null    int64  \n",
            " 33  Hair loss(Y/N)          541 non-null    int64  \n",
            " 34  Pimples(Y/N)            541 non-null    int64  \n",
            " 35  Fast food (Y/N)         541 non-null    float64\n",
            " 36  Reg.Exercise(Y/N)       541 non-null    int64  \n",
            " 37  BP _Systolic (mmHg)     541 non-null    int64  \n",
            " 38  BP _Diastolic (mmHg)    541 non-null    int64  \n",
            " 39  Follicle No. (L)        541 non-null    int64  \n",
            " 40  Follicle No. (R)        541 non-null    int64  \n",
            " 41  Avg. F size (L) (mm)    541 non-null    float64\n",
            " 42  Avg. F size (R) (mm)    541 non-null    float64\n",
            " 43  Endometrium (mm)        541 non-null    float64\n",
            "dtypes: float64(21), int64(23)\n",
            "memory usage: 186.1 KB\n"
          ]
        }
      ]
    },
    {
      "cell_type": "markdown",
      "source": [
        "removing non pcos records from the dataset"
      ],
      "metadata": {
        "id": "Ds2iZ6hrTVhE"
      }
    },
    {
      "cell_type": "code",
      "source": [
        "df = df[df['PCOS (Y/N)'] != 0]\n",
        "df.reset_index(drop=True, inplace=True)"
      ],
      "metadata": {
        "id": "AK_kWxJSQk9Q"
      },
      "execution_count": 21,
      "outputs": []
    },
    {
      "cell_type": "code",
      "source": [
        "df.info()"
      ],
      "metadata": {
        "colab": {
          "base_uri": "https://localhost:8080/"
        },
        "id": "YEo5SmMkRO9Q",
        "outputId": "bdf44d28-b194-4890-941b-410b4c6a7008"
      },
      "execution_count": 22,
      "outputs": [
        {
          "output_type": "stream",
          "name": "stdout",
          "text": [
            "<class 'pandas.core.frame.DataFrame'>\n",
            "RangeIndex: 177 entries, 0 to 176\n",
            "Data columns (total 44 columns):\n",
            " #   Column                  Non-Null Count  Dtype  \n",
            "---  ------                  --------------  -----  \n",
            " 0   Sl. No                  177 non-null    int64  \n",
            " 1   Patient File No.        177 non-null    int64  \n",
            " 2   PCOS (Y/N)              177 non-null    int64  \n",
            " 3   Age (yrs)               177 non-null    int64  \n",
            " 4   Weight (Kg)             177 non-null    float64\n",
            " 5   Height(Cm)              177 non-null    float64\n",
            " 6   BMI                     177 non-null    float64\n",
            " 7   Blood Group             177 non-null    int64  \n",
            " 8   Pulse rate(bpm)         177 non-null    int64  \n",
            " 9   RR (breaths/min)        177 non-null    int64  \n",
            " 10  Hb(g/dl)                177 non-null    float64\n",
            " 11  Cycle(R/I)              177 non-null    int64  \n",
            " 12  Cycle length(days)      177 non-null    int64  \n",
            " 13  Marraige Status (Yrs)   177 non-null    float64\n",
            " 14  Pregnant(Y/N)           177 non-null    int64  \n",
            " 15  No. of aborptions       177 non-null    int64  \n",
            " 16  I   beta-HCG(mIU/mL)    177 non-null    float64\n",
            " 17  II    beta-HCG(mIU/mL)  176 non-null    float64\n",
            " 18  FSH(mIU/mL)             177 non-null    float64\n",
            " 19  LH(mIU/mL)              177 non-null    float64\n",
            " 20  FSH/LH                  177 non-null    float64\n",
            " 21  Hip(inch)               177 non-null    int64  \n",
            " 22  Waist(inch)             177 non-null    int64  \n",
            " 23  Waist:Hip Ratio         177 non-null    float64\n",
            " 24  TSH (mIU/L)             177 non-null    float64\n",
            " 25  AMH(ng/mL)              177 non-null    float64\n",
            " 26  PRL(ng/mL)              177 non-null    float64\n",
            " 27  Vit D3 (ng/mL)          177 non-null    float64\n",
            " 28  PRG(ng/mL)              177 non-null    float64\n",
            " 29  RBS(mg/dl)              177 non-null    float64\n",
            " 30  Weight gain(Y/N)        177 non-null    int64  \n",
            " 31  hair growth(Y/N)        177 non-null    int64  \n",
            " 32  Skin darkening (Y/N)    177 non-null    int64  \n",
            " 33  Hair loss(Y/N)          177 non-null    int64  \n",
            " 34  Pimples(Y/N)            177 non-null    int64  \n",
            " 35  Fast food (Y/N)         177 non-null    float64\n",
            " 36  Reg.Exercise(Y/N)       177 non-null    int64  \n",
            " 37  BP _Systolic (mmHg)     177 non-null    int64  \n",
            " 38  BP _Diastolic (mmHg)    177 non-null    int64  \n",
            " 39  Follicle No. (L)        177 non-null    int64  \n",
            " 40  Follicle No. (R)        177 non-null    int64  \n",
            " 41  Avg. F size (L) (mm)    177 non-null    float64\n",
            " 42  Avg. F size (R) (mm)    177 non-null    float64\n",
            " 43  Endometrium (mm)        177 non-null    float64\n",
            "dtypes: float64(21), int64(23)\n",
            "memory usage: 61.0 KB\n"
          ]
        }
      ]
    },
    {
      "cell_type": "code",
      "source": [
        "columns_to_remove = ['Sl. No','Patient File No.','Blood Group','Pulse rate(bpm)','RR (breaths/min)','Hb(g/dl)','Cycle length(days)','Marraige Status (Yrs)','I   beta-HCG(mIU/mL)','II    beta-HCG(mIU/mL)','Hip(inch)','Waist(inch)','Waist:Hip Ratio','TSH (mIU/L)','AMH(ng/mL)','Vit D3 (ng/mL)','PRG(ng/mL)','RBS(mg/dl)','hair growth(Y/N)','Skin darkening (Y/N)','Hair loss(Y/N)','Pimples(Y/N)', 'BP _Systolic (mmHg)', 'BP _Diastolic (mmHg)','Follicle No. (L)','Follicle No. (R)','Avg. F size (L) (mm)','Avg. F size (R) (mm)','Endometrium (mm)']\n"
      ],
      "metadata": {
        "id": "WBE76kxkEYq9"
      },
      "execution_count": 23,
      "outputs": []
    },
    {
      "cell_type": "code",
      "source": [
        "df.drop(columns=columns_to_remove, inplace=True)"
      ],
      "metadata": {
        "id": "5BYsO3J6Tx0l"
      },
      "execution_count": 24,
      "outputs": []
    },
    {
      "cell_type": "code",
      "source": [
        "df.info()"
      ],
      "metadata": {
        "id": "ZaSjD9BeT9h9",
        "outputId": "c62494dc-dad5-491e-c6f8-cca29190b37e",
        "colab": {
          "base_uri": "https://localhost:8080/"
        }
      },
      "execution_count": 25,
      "outputs": [
        {
          "output_type": "stream",
          "name": "stdout",
          "text": [
            "<class 'pandas.core.frame.DataFrame'>\n",
            "RangeIndex: 177 entries, 0 to 176\n",
            "Data columns (total 15 columns):\n",
            " #   Column             Non-Null Count  Dtype  \n",
            "---  ------             --------------  -----  \n",
            " 0   PCOS (Y/N)         177 non-null    int64  \n",
            " 1   Age (yrs)          177 non-null    int64  \n",
            " 2   Weight (Kg)        177 non-null    float64\n",
            " 3   Height(Cm)         177 non-null    float64\n",
            " 4   BMI                177 non-null    float64\n",
            " 5   Cycle(R/I)         177 non-null    int64  \n",
            " 6   Pregnant(Y/N)      177 non-null    int64  \n",
            " 7   No. of aborptions  177 non-null    int64  \n",
            " 8   FSH(mIU/mL)        177 non-null    float64\n",
            " 9   LH(mIU/mL)         177 non-null    float64\n",
            " 10  FSH/LH             177 non-null    float64\n",
            " 11  PRL(ng/mL)         177 non-null    float64\n",
            " 12  Weight gain(Y/N)   177 non-null    int64  \n",
            " 13  Fast food (Y/N)    177 non-null    float64\n",
            " 14  Reg.Exercise(Y/N)  177 non-null    int64  \n",
            "dtypes: float64(8), int64(7)\n",
            "memory usage: 20.9 KB\n"
          ]
        }
      ]
    },
    {
      "cell_type": "markdown",
      "source": [
        "defining an excel file"
      ],
      "metadata": {
        "id": "PDUOj3PgTcQy"
      }
    },
    {
      "cell_type": "code",
      "source": [
        "file_name = \"dataset with only pcos patients and relevant columns.xlsx\""
      ],
      "metadata": {
        "id": "a2cmTb25SBTx"
      },
      "execution_count": 26,
      "outputs": []
    },
    {
      "cell_type": "markdown",
      "source": [
        "saving the dataframe as an excel file"
      ],
      "metadata": {
        "id": "H3klhs9LTexv"
      }
    },
    {
      "cell_type": "code",
      "source": [
        "df.to_excel(file_name)\n",
        "print('DataFrame is written to Excel File successfully.')"
      ],
      "metadata": {
        "colab": {
          "base_uri": "https://localhost:8080/"
        },
        "id": "Ql3RiQYfSUDa",
        "outputId": "2783f641-1ad2-4e77-a598-581f7029eaec"
      },
      "execution_count": 27,
      "outputs": [
        {
          "output_type": "stream",
          "name": "stdout",
          "text": [
            "DataFrame is written to Excel File successfully.\n"
          ]
        }
      ]
    }
  ]
}